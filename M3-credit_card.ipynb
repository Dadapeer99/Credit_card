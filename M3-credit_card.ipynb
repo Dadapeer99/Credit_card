{
 "cells": [
  {
   "cell_type": "markdown",
   "id": "541c2a08",
   "metadata": {},
   "source": [
    "# Module 3 : Performance measurements of Logistic regression"
   ]
  },
  {
   "cell_type": "code",
   "execution_count": 72,
   "id": "8881cbbc",
   "metadata": {},
   "outputs": [],
   "source": [
    "#import library packages\n",
    "import pandas as p\n",
    "import matplotlib.pyplot as plt\n",
    "import seaborn as s\n",
    "import numpy as n"
   ]
  },
  {
   "cell_type": "code",
   "execution_count": 73,
   "id": "b230fe2c",
   "metadata": {},
   "outputs": [],
   "source": [
    "import warnings\n",
    "warnings.filterwarnings('ignore')"
   ]
  },
  {
   "cell_type": "code",
   "execution_count": 74,
   "id": "db48763a",
   "metadata": {},
   "outputs": [],
   "source": [
    "#Load given dataset\n",
    "data = p.read_csv('creditcard.csv')"
   ]
  },
  {
   "cell_type": "code",
   "execution_count": 75,
   "id": "d96e1e42",
   "metadata": {},
   "outputs": [],
   "source": [
    "del data['TransactionDate']\n",
    "del data['Merchant_id']"
   ]
  },
  {
   "cell_type": "code",
   "execution_count": 76,
   "id": "da5ad798",
   "metadata": {},
   "outputs": [
    {
     "data": {
      "text/plain": [
       "(3075, 10)"
      ]
     },
     "execution_count": 76,
     "metadata": {},
     "output_type": "execute_result"
    }
   ],
   "source": [
    "data.shape"
   ]
  },
  {
   "cell_type": "code",
   "execution_count": 77,
   "id": "769e832b",
   "metadata": {},
   "outputs": [],
   "source": [
    "df=data.dropna()"
   ]
  },
  {
   "cell_type": "code",
   "execution_count": 78,
   "id": "5a51dc75",
   "metadata": {},
   "outputs": [],
   "source": [
    "from sklearn.preprocessing import LabelEncoder\n",
    "var_mod = ['Is_declined', 'isForeignTransaction', 'isHighRiskCountry', 'isFradulent']\n",
    "le = LabelEncoder()\n",
    "for i in var_mod:\n",
    "    df[i] = le.fit_transform(df[i])"
   ]
  },
  {
   "cell_type": "code",
   "execution_count": 79,
   "id": "955301a8",
   "metadata": {},
   "outputs": [
    {
     "data": {
      "text/plain": [
       "AverageAmountTransactionDay    float64\n",
       "TransactionAmount              float64\n",
       "Is_declined                      int32\n",
       "TotalNumberOfDeclinesDay         int64\n",
       "isForeignTransaction             int32\n",
       "isHighRiskCountry                int32\n",
       "DailyChargebackAvgAmt            int64\n",
       "6_MonthAvgChbkAmt              float64\n",
       "6_MonthChbkFreq                  int64\n",
       "isFradulent                      int32\n",
       "dtype: object"
      ]
     },
     "execution_count": 79,
     "metadata": {},
     "output_type": "execute_result"
    }
   ],
   "source": [
    "df.dtypes"
   ]
  },
  {
   "cell_type": "code",
   "execution_count": null,
   "id": "303661e8",
   "metadata": {},
   "outputs": [],
   "source": []
  },
  {
   "cell_type": "code",
   "execution_count": 59,
   "id": "363e7d6e",
   "metadata": {},
   "outputs": [
    {
     "data": {
      "text/plain": [
       "AverageAmountTransactionDay    int32\n",
       "TransactionAmount              int32\n",
       "Is_declined                    int32\n",
       "TotalNumberOfDeclinesDay       int32\n",
       "isForeignTransaction           int32\n",
       "isHighRiskCountry              int32\n",
       "DailyChargebackAvgAmt          int32\n",
       "6_MonthAvgChbkAmt              int32\n",
       "6_MonthChbkFreq                int32\n",
       "isFradulent                    int32\n",
       "dtype: object"
      ]
     },
     "execution_count": 59,
     "metadata": {},
     "output_type": "execute_result"
    }
   ],
   "source": [
    "df.dtypes"
   ]
  },
  {
   "cell_type": "code",
   "execution_count": 19,
   "id": "95d35220",
   "metadata": {},
   "outputs": [],
   "source": [
    "#preprocessing, split test and dataset, split response variable\n",
    "X = df.drop(labels='isFradulent', axis=1)\n",
    "#Response variable\n",
    "y = df.loc[:,'isFradulent']    "
   ]
  },
  {
   "cell_type": "code",
   "execution_count": 20,
   "id": "d22f41dc",
   "metadata": {},
   "outputs": [
    {
     "name": "stdout",
     "output_type": "stream",
     "text": [
      "      AverageAmountTransactionDay  TransactionAmount  Is_declined  \\\n",
      "0                             100               3000            0   \n",
      "1                             100               4300            0   \n",
      "2                             185               4823            1   \n",
      "3                             185               5008            1   \n",
      "4                             500              26000            0   \n",
      "...                           ...                ...          ...   \n",
      "3070                          500              11000            1   \n",
      "3071                          800                  0            1   \n",
      "3072                          800              20800            1   \n",
      "3073                         1500              12000            1   \n",
      "3074                         1500              36000            1   \n",
      "\n",
      "      TotalNumberOfDeclinesDay  isForeignTransaction  isHighRiskCountry  \\\n",
      "0                            5                     1                  1   \n",
      "1                            5                     1                  1   \n",
      "2                            5                     0                  0   \n",
      "3                            8                     0                  0   \n",
      "4                            0                     1                  1   \n",
      "...                        ...                   ...                ...   \n",
      "3070                         0                     0                  0   \n",
      "3071                         0                     0                  0   \n",
      "3072                         0                     0                  0   \n",
      "3073                         0                     1                  1   \n",
      "3074                         0                     1                  1   \n",
      "\n",
      "      DailyChargebackAvgAmt  6_MonthAvgChbkAmt  6_MonthChbkFreq  \n",
      "0                         0                  0                0  \n",
      "1                         0                  0                0  \n",
      "2                         0                  0                0  \n",
      "3                         0                  0                0  \n",
      "4                       800                677                6  \n",
      "...                     ...                ...              ...  \n",
      "3070                    754                585                7  \n",
      "3071                    754                585                7  \n",
      "3072                    754                585                7  \n",
      "3073                    754                585                7  \n",
      "3074                    754                585                7  \n",
      "\n",
      "[3075 rows x 9 columns]\n"
     ]
    }
   ],
   "source": [
    "print(X)"
   ]
  },
  {
   "cell_type": "code",
   "execution_count": 21,
   "id": "346e6bcb",
   "metadata": {},
   "outputs": [
    {
     "name": "stdout",
     "output_type": "stream",
     "text": [
      "0       1\n",
      "1       1\n",
      "2       1\n",
      "3       1\n",
      "4       1\n",
      "       ..\n",
      "3070    0\n",
      "3071    0\n",
      "3072    0\n",
      "3073    0\n",
      "3074    0\n",
      "Name: isFradulent, Length: 3075, dtype: int32\n"
     ]
    }
   ],
   "source": [
    "print(y)"
   ]
  },
  {
   "cell_type": "code",
   "execution_count": 22,
   "id": "20e0d4da",
   "metadata": {},
   "outputs": [
    {
     "name": "stdout",
     "output_type": "stream",
     "text": [
      "Number of training dataset:  2152\n",
      "Number of test dataset:  923\n",
      "Total number of dataset:  3075\n"
     ]
    }
   ],
   "source": [
    "'''We'll use a test size of 30%. We also stratify the split on the response variable,\n",
    "which is very important to do because there are so few fraudulent transactions'''\n",
    "\n",
    "from sklearn.model_selection import train_test_split\n",
    "X_train, X_test, y_train, y_test = train_test_split(X, y, test_size=0.30, random_state=1, stratify=y)\n",
    "print(\"Number of training dataset: \", len(X_train))\n",
    "print(\"Number of test dataset: \", len(X_test))\n",
    "print(\"Total number of dataset: \", len(X_train)+len(X_test))\n"
   ]
  },
  {
   "cell_type": "code",
   "execution_count": 23,
   "id": "bb9b25d5",
   "metadata": {},
   "outputs": [],
   "source": [
    "#According to the cross-validated MCC scores, the random forest is the best-performing model, so now let's evaluate its performance on the test set.\n",
    "from sklearn.metrics import confusion_matrix, classification_report, matthews_corrcoef, cohen_kappa_score, accuracy_score, average_precision_score, roc_auc_score"
   ]
  },
  {
   "cell_type": "code",
   "execution_count": 24,
   "id": "bb609cef",
   "metadata": {},
   "outputs": [
    {
     "name": "stdout",
     "output_type": "stream",
     "text": [
      "\n",
      "Classification report of Logistic Regression Results:\n",
      "\n",
      "              precision    recall  f1-score   support\n",
      "\n",
      "           0       0.99      0.99      0.99       789\n",
      "           1       0.97      0.96      0.96       134\n",
      "\n",
      "    accuracy                           0.99       923\n",
      "   macro avg       0.98      0.98      0.98       923\n",
      "weighted avg       0.99      0.99      0.99       923\n",
      "\n",
      "\n",
      "Confusion Matrix result of Logistic Regression is:\n",
      " [[785   4]\n",
      " [  6 128]]\n",
      "\n",
      "Sensitivity :  0.9949302915082383\n",
      "\n",
      "Specificity :  0.9552238805970149\n",
      "\n",
      "Cross validation test results of accuracy:\n",
      "[0.9902439  0.98699187 0.97886179 0.97073171 0.98699187]\n",
      "\n",
      "Accuracy result of Logistic Regression is: 98.27642276422765\n"
     ]
    }
   ],
   "source": [
    "from sklearn.metrics import accuracy_score, confusion_matrix\n",
    "from sklearn.linear_model import LogisticRegression\n",
    "from sklearn.model_selection import cross_val_score\n",
    "\n",
    "logR= LogisticRegression()\n",
    "\n",
    "logR.fit(X_train,y_train)\n",
    "\n",
    "predictLR = logR.predict(X_test)\n",
    "\n",
    "print(\"\")\n",
    "print('Classification report of Logistic Regression Results:')\n",
    "print(\"\")\n",
    "print(classification_report(y_test,predictLR))\n",
    "\n",
    "print(\"\")\n",
    "cm1=confusion_matrix(y_test,predictLR)\n",
    "print('Confusion Matrix result of Logistic Regression is:\\n',cm1)\n",
    "print(\"\")\n",
    "sensitivity1 = cm1[0,0]/(cm1[0,0]+cm1[0,1])\n",
    "print('Sensitivity : ', sensitivity1 )\n",
    "print(\"\")\n",
    "specificity1 = cm1[1,1]/(cm1[1,0]+cm1[1,1])\n",
    "print('Specificity : ', specificity1)\n",
    "print(\"\")\n",
    "\n",
    "accuracy = cross_val_score(logR, X, y, scoring='accuracy')\n",
    "print('Cross validation test results of accuracy:')\n",
    "print(accuracy)\n",
    "#get the mean of each fold \n",
    "print(\"\")\n",
    "print(\"Accuracy result of Logistic Regression is:\",accuracy.mean() * 100)\n",
    "LR=accuracy.mean() * 100"
   ]
  },
  {
   "cell_type": "code",
   "execution_count": 25,
   "id": "9824c3ba",
   "metadata": {},
   "outputs": [],
   "source": [
    "def graph():\n",
    "    import matplotlib.pyplot as plt\n",
    "    data=[LR]\n",
    "    alg=\"Logistic Regression\"\n",
    "    plt.figure(figsize=(5,5))\n",
    "    b=plt.bar(alg,data,color=(\"c\"))\n",
    "    plt.title(\"Accuracy comparison of Earth Quake\",fontsize=15)\n",
    "    plt.legend(b,data,fontsize=9)"
   ]
  },
  {
   "cell_type": "code",
   "execution_count": 26,
   "id": "c9edf1d9",
   "metadata": {},
   "outputs": [
    {
     "data": {
      "image/png": "[encoded data removed]",
      "text/plain": [
       "<Figure size 500x500 with 1 Axes>"
      ]
     },
     "metadata": {},
     "output_type": "display_data"
    }
   ],
   "source": [
    "graph()"
   ]
  },
  {
   "cell_type": "code",
   "execution_count": 27,
   "id": "361be422",
   "metadata": {
    "scrolled": true
   },
   "outputs": [
    {
     "name": "stdout",
     "output_type": "stream",
     "text": [
      "True Positive : 785\n",
      "True Negative : 4\n",
      "False Positive : 6\n",
      "False Negative : 128\n",
      "\n",
      "True Positive Rate : 0.859802847754655\n",
      "True Negative Rate : 0.4\n",
      "False Positive Rate : 0.6\n",
      "False Negative Rate : 0.140197152245345\n",
      "\n",
      "Positive Predictive Value : 0.9924146649810367\n",
      "Negative predictive value : 0.030303030303030304\n"
     ]
    }
   ],
   "source": [
    "TP = cm1[0][0]\n",
    "FP = cm1[1][0]\n",
    "FN = cm1[1][1]\n",
    "TN = cm1[0][1]\n",
    "print(\"True Positive :\",TP)\n",
    "print(\"True Negative :\",TN)\n",
    "print(\"False Positive :\",FP)\n",
    "print(\"False Negative :\",FN)\n",
    "print(\"\")\n",
    "TPR = TP/(TP+FN)\n",
    "TNR = TN/(TN+FP)\n",
    "FPR = FP/(FP+TN)\n",
    "FNR = FN/(TP+FN)\n",
    "print(\"True Positive Rate :\",TPR)\n",
    "print(\"True Negative Rate :\",TNR)\n",
    "print(\"False Positive Rate :\",FPR)\n",
    "print(\"False Negative Rate :\",FNR)\n",
    "print(\"\")\n",
    "PPV = TP/(TP+FP)\n",
    "NPV = TN/(TN+FN)\n",
    "print(\"Positive Predictive Value :\",PPV)\n",
    "print(\"Negative predictive value :\",NPV)"
   ]
  },
  {
   "cell_type": "code",
   "execution_count": 28,
   "id": "87a419b4",
   "metadata": {},
   "outputs": [
    {
     "name": "stdout",
     "output_type": "stream",
     "text": [
      "Confusion matrix-Logistic_Regression:\n",
      "[[785   4]\n",
      " [  6 128]]\n"
     ]
    },
    {
     "data": {
      "image/png": "[encoded data removed]",
      "text/plain": [
       "<Figure size 640x480 with 2 Axes>"
      ]
     },
     "metadata": {},
     "output_type": "display_data"
    }
   ],
   "source": [
    "def plot_confusion_matrix(cm1, title='Confusion matrix-Logistic_Regression', cmap=plt.cm.Blues):\n",
    "    target_names=['Predict','Actual']\n",
    "    plt.imshow(cm1, interpolation='nearest', cmap=cmap)\n",
    "    plt.title(title)\n",
    "    plt.colorbar()\n",
    "    tick_marks = n.arange(len(target_names))\n",
    "    plt.xticks(tick_marks, target_names, rotation=45)\n",
    "    plt.yticks(tick_marks, target_names)\n",
    "    plt.tight_layout()\n",
    "    plt.ylabel('True label')\n",
    "    plt.xlabel('Predicted label')\n",
    "\n",
    "cm1=confusion_matrix(y_test, predictLR)\n",
    "print('Confusion matrix-Logistic_Regression:')\n",
    "print(cm1)\n",
    "plot_confusion_matrix(cm1)"
   ]
  },
  {
   "cell_type": "code",
   "execution_count": 29,
   "id": "438bd107",
   "metadata": {},
   "outputs": [
    {
     "name": "stdout",
     "output_type": "stream",
     "text": [
      "Confusion matrix-Logistic_Regression:\n",
      "[[785   4]\n",
      " [  6 128]]\n"
     ]
    },
    {
     "data": {
      "image/png": "[encoded data removed]",
      "text/plain": [
       "<Figure size 640x480 with 2 Axes>"
      ]
     },
     "metadata": {},
     "output_type": "display_data"
    }
   ],
   "source": [
    "import seaborn as sns\n",
    "import matplotlib.pyplot as plt\n",
    "\n",
    "def plot_confusion_matrix(cm, title='Confusion matrix-Logistic_Regression'):\n",
    "    target_names = ['Predict', 'Actual']\n",
    "    \n",
    "    sns.heatmap(cm, annot=True, fmt=\"d\", cmap='Blues')\n",
    "    plt.title(title)\n",
    "    \n",
    "    tick_marks = n.arange(len(target_names))\n",
    "    plt.xticks(tick_marks+0.5, target_names, rotation=45)\n",
    "    plt.yticks(tick_marks+0.5, target_names)\n",
    "    plt.tight_layout()\n",
    "    plt.xlabel('Predicted label')\n",
    "    plt.ylabel('True label')\n",
    "\n",
    "# Example usage\n",
    "cm = confusion_matrix(y_test, predictLR)\n",
    "print('Confusion matrix-Logistic_Regression:')\n",
    "print(cm)\n",
    "plot_confusion_matrix(cm)\n",
    "plt.show()"
   ]
  },
  {
   "cell_type": "code",
   "execution_count": 30,
   "id": "9353c394",
   "metadata": {},
   "outputs": [
    {
     "name": "stdout",
     "output_type": "stream",
     "text": [
      "Confusion matrix-Logistic_Regression:\n",
      "[[785   4]\n",
      " [  6 128]]\n"
     ]
    },
    {
     "data": {
      "image/png": "[encoded data removed]",
      "text/plain": [
       "<Figure size 640x480 with 2 Axes>"
      ]
     },
     "metadata": {},
     "output_type": "display_data"
    }
   ],
   "source": [
    "from sklearn.metrics import confusion_matrix\n",
    "from sklearn.metrics import ConfusionMatrixDisplay\n",
    "import matplotlib.pyplot as plt\n",
    "\n",
    "# Example usage\n",
    "cm = confusion_matrix(y_test, predictLR)\n",
    "print('Confusion matrix-Logistic_Regression:')\n",
    "print(cm)\n",
    "\n",
    "# Plotting the confusion matrix\n",
    "disp = ConfusionMatrixDisplay(confusion_matrix=cm, display_labels=['Predict', 'Actual'])\n",
    "disp.plot(cmap='Blues')\n",
    "plt.title('Confusion matrix-Logistic_Regression')\n",
    "plt.xlabel('Predicted label')\n",
    "plt.ylabel('True label')\n",
    "plt.show()\n",
    "\n"
   ]
  },
  {
   "cell_type": "code",
   "execution_count": null,
   "id": "1695363c",
   "metadata": {},
   "outputs": [],
   "source": []
  },
  {
   "cell_type": "code",
   "execution_count": null,
   "id": "f8d22e53",
   "metadata": {},
   "outputs": [],
   "source": []
  },
  {
   "cell_type": "code",
   "execution_count": null,
   "id": "76ec0d52",
   "metadata": {},
   "outputs": [],
   "source": []
  },
  {
   "cell_type": "markdown",
   "id": "21ba3e1f",
   "metadata": {},
   "source": [
    "Creating pkl File"
   ]
  },
  {
   "cell_type": "code",
   "execution_count": 15,
   "id": "557322b0",
   "metadata": {},
   "outputs": [
    {
     "data": {
      "text/plain": [
       "['lr.pkl']"
      ]
     },
     "execution_count": 15,
     "metadata": {},
     "output_type": "execute_result"
    }
   ],
   "source": [
    "import joblib\n",
    "joblib.dump(logR,'lr.pkl')"
   ]
  },
  {
   "cell_type": "code",
   "execution_count": null,
   "id": "ff4d47d0",
   "metadata": {},
   "outputs": [],
   "source": []
  },
  {
   "cell_type": "code",
   "execution_count": null,
   "id": "2bd70516",
   "metadata": {},
   "outputs": [],
   "source": []
  }
 ],
 "metadata": {
  "kernelspec": {
   "display_name": "Python 3 (ipykernel)",
   "language": "python",
   "name": "python3"
  },
  "language_info": {
   "codemirror_mode": {
    "name": "ipython",
    "version": 3
   },
   "file_extension": ".py",
   "mimetype": "text/x-python",
   "name": "python",
   "nbconvert_exporter": "python",
   "pygments_lexer": "ipython3",
   "version": "3.10.9"
  }
 },
 "nbformat": 4,
 "nbformat_minor": 5
}
